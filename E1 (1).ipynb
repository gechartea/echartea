{
 "cells": [
  {
   "cell_type": "markdown",
   "metadata": {},
   "source": [
    "# Examen 2: Ejercicios de Python.\n"
   ]
  },
  {
   "cell_type": "markdown",
   "metadata": {},
   "source": [
    "Al momento de responder las preguntas, cerciorense de que les imprima el resultado. "
   ]
  },
  {
   "cell_type": "markdown",
   "metadata": {},
   "source": [
    "### 1.- Dando lista A = [3, 2, 7, 4, 12, 9, 6, 1] desarrolla los siguientes 3 ejercicios.\n",
    "\n",
    "- Imprime la sumatoria de todos los elementos.\n",
    "- Ordenalos de mayor a menor.\n",
    "- Haz una nueva lista pero solo con sus elementos pares."
   ]
  },
  {
   "cell_type": "code",
   "execution_count": 2,
   "metadata": {},
   "outputs": [
    {
     "data": {
      "text/plain": [
       "44"
      ]
     },
     "execution_count": 2,
     "metadata": {},
     "output_type": "execute_result"
    }
   ],
   "source": [
    "#(Puntos 5)\n",
    "# Imprime la sumatoria de todos los elementos en a = [3, 2, 7, 4, 12, 9, 6, 1].\n",
    "a = [3, 2, 7, 4, 12, 9, 6, 1]\n",
    "suma = 0\n",
    "for i in a:\n",
    "    suma = suma + i\n",
    "suma\n"
   ]
  },
  {
   "cell_type": "code",
   "execution_count": 6,
   "metadata": {},
   "outputs": [
    {
     "data": {
      "text/plain": [
       "[12, 9, 7, 6, 4, 3, 2, 1]"
      ]
     },
     "execution_count": 6,
     "metadata": {},
     "output_type": "execute_result"
    }
   ],
   "source": [
    "#(Puntos 10)\n",
    "# Ordenalos de mayor a menor\n",
    "a = [3, 2, 7, 4, 12, 9, 6, 1]\n",
    "for i in range(len(a)-1,0,-1):\n",
    "        for i in range(i):\n",
    "            if a[i]<a[i+1]:\n",
    "                temp = a[i]\n",
    "                a[i] = a[i+1]\n",
    "                a[i+1] = temp\n",
    "a\n"
   ]
  },
  {
   "cell_type": "code",
   "execution_count": 31,
   "metadata": {},
   "outputs": [
    {
     "data": {
      "text/plain": [
       "[2, 4, 12, 6]"
      ]
     },
     "execution_count": 31,
     "metadata": {},
     "output_type": "execute_result"
    }
   ],
   "source": [
    "#(Puntos 10)\n",
    "# Haz una nueva lista pero solo con sus elementos pares\n",
    "a = [3, 2, 7, 4, 12, 9, 6, 1]\n",
    "b=[]\n",
    "for i in a:\n",
    "    res=i%2\n",
    "    if res==0:\n",
    "        b.append(i)\n",
    "b\n",
    "\n"
   ]
  },
  {
   "cell_type": "markdown",
   "metadata": {},
   "source": [
    "### 2.- Dale valor a dos variables y realiza 5 funciones que regresen como resultado diferentes operaciones aritmeticas (suma, resta, etc...). "
   ]
  },
  {
   "cell_type": "code",
   "execution_count": 38,
   "metadata": {},
   "outputs": [
    {
     "name": "stdout",
     "output_type": "stream",
     "text": [
      "6\n",
      "2\n",
      "8\n",
      "2.0\n",
      "0\n"
     ]
    }
   ],
   "source": [
    "#(Puntos 15)\n",
    "n1=4\n",
    "n2=2\n",
    "def suma(n1,n2):\n",
    "  return n1+n2\n",
    "def resta(n1,n2):\n",
    "  return n1-n2\n",
    "def multiplicacion(n1,n2):\n",
    "  return n1*n2\n",
    "def division(n1,n2):\n",
    "  return n1/n2\n",
    "def residuo(n1,n2):\n",
    "  return n1%n2\n",
    "\n",
    "print(suma(n1,n2))\n",
    "print(resta(n1,n2))\n",
    "print(multiplicacion(n1,n2))\n",
    "print(division(n1,n2))\n",
    "print(residuo(n1,n2))"
   ]
  },
  {
   "cell_type": "markdown",
   "metadata": {},
   "source": [
    "### 3.- Dada la lista A = [3, 2, 7, 4, 12, 9, 6, 1] y lista B = [13, 16, 21, 34, 18, 17, 11, 10] crea una lista nueva que contenga solo los datos impares de ambas listas."
   ]
  },
  {
   "cell_type": "code",
   "execution_count": 42,
   "metadata": {},
   "outputs": [
    {
     "data": {
      "text/plain": [
       "[2, 4, 12, 6, 16, 34, 18, 10]"
      ]
     },
     "execution_count": 42,
     "metadata": {},
     "output_type": "execute_result"
    }
   ],
   "source": [
    "#(Puntos 15)\n",
    "A = [3, 2, 7, 4, 12, 9, 6, 1]\n",
    "B = [13, 16, 21, 34, 18, 17, 11, 10] \n",
    "C=[]\n",
    "for i in A:\n",
    "    res=i%2\n",
    "    if res==0:\n",
    "        C.append(i)\n",
    "for i in B:\n",
    "    res=i%2\n",
    "    if res==0:\n",
    "        C.append(i)\n",
    "C"
   ]
  },
  {
   "cell_type": "markdown",
   "metadata": {},
   "source": [
    "### 4.- Dadas las variables W = 11, X = 17, Y = 32, Z = 65, crea una función que clasifique por grupos de edad (niño, adolecente, adulto, adulto mayor. (Utiliza el elif)"
   ]
  },
  {
   "cell_type": "code",
   "execution_count": 48,
   "metadata": {},
   "outputs": [
    {
     "name": "stdout",
     "output_type": "stream",
     "text": [
      "Adulto\n",
      "Niño\n",
      "Adolescente\n",
      "Adulto Mayor\n"
     ]
    }
   ],
   "source": [
    "#(Puntos 15)\n",
    "def edad(edad):\n",
    "    if edad<14:\n",
    "      print(\"Niño\")\n",
    "    elif edad>14 and edad<20:\n",
    "      print(\"Adolescente\")\n",
    "    elif edad>20 and edad<60:\n",
    "      print(\"Adulto\")\n",
    "    elif edad>60:\n",
    "      print(\"Adulto Mayor\")\n",
    "\n",
    "W = 11 \n",
    "X = 17\n",
    "Y = 32 \n",
    "Z = 65\n",
    "\n",
    "edad(Y)\n",
    "edad(W)\n",
    "edad(X)\n",
    "edad(Z)\n",
    "    "
   ]
  },
  {
   "cell_type": "markdown",
   "metadata": {},
   "source": [
    "### 5.- Utilizando cualquiera de las condicionales (for, if, while...) imprime los siguientes patrones tal y como aparecen en el comentario, respetando los espacios y los saltos de renglon.\n"
   ]
  },
  {
   "cell_type": "code",
   "execution_count": 70,
   "metadata": {},
   "outputs": [
    {
     "name": "stdout",
     "output_type": "stream",
     "text": [
      "\t\n",
      "1 \t\n",
      "2 2 \t\n",
      "3 3 3 \t\n",
      "4 4 4 4 \t\n",
      "5 5 5 5 5 \t\n"
     ]
    }
   ],
   "source": [
    "#(Puntos 10)\n",
    "#1 \n",
    "#2 2\n",
    "#3 3 3\n",
    "#4 4 4 4\n",
    "#5 5 5 5 5\n",
    "for i in range(6):\n",
    "    cont=i\n",
    "    for i in range(i): \n",
    "        print (cont, end=\" \")\n",
    "    print(\"\\t\")\n"
   ]
  },
  {
   "cell_type": "code",
   "execution_count": 103,
   "metadata": {},
   "outputs": [
    {
     "name": "stdout",
     "output_type": "stream",
     "text": [
      "5 4 3 2 1 \t\n",
      "4 3 2 1 \t\n",
      "3 2 1 \t\n",
      "2 1 \t\n",
      "1 \t\n"
     ]
    }
   ],
   "source": [
    "#(Puntos 15)\n",
    "#5 4 3 2 1 \n",
    "#4 3 2 1\n",
    "#3 2 1 \n",
    "#2 1\n",
    "#1\n",
    "cont=6\n",
    "for i in range(5):\n",
    "    aux=cont\n",
    "    cont=cont-1\n",
    "    for i in range(5-i):\n",
    "        aux=aux-1\n",
    "        print (aux, end=\" \")\n",
    "    print(\"\\t\")\n",
    "    "
   ]
  },
  {
   "cell_type": "markdown",
   "metadata": {},
   "source": [
    "### 6.- Con la lista A = [3, 2, 7, 4, 12, 9, 6, 1] y el uso de condicionales, imprime una nueva lista con cada uno de los elementos de la lista A, al cuadrado."
   ]
  },
  {
   "cell_type": "code",
   "execution_count": 102,
   "metadata": {},
   "outputs": [
    {
     "data": {
      "text/plain": [
       "[9, 4, 49, 16, 144, 81, 36, 1]"
      ]
     },
     "execution_count": 102,
     "metadata": {},
     "output_type": "execute_result"
    }
   ],
   "source": [
    "#(Puntos 10)\n",
    "a = [3, 2, 7, 4, 12, 9, 6, 1]\n",
    "b=[]\n",
    "for i in a:\n",
    "    ele=pow(i,2)\n",
    "    b.append(ele)\n",
    "b"
   ]
  },
  {
   "cell_type": "markdown",
   "metadata": {},
   "source": [
    "### (Extra puntos 5.) \n",
    "\n",
    "Conteste los tres puntos para obtener la totalidad de los puntos.\n",
    "*Mencione al menos 3 palabras reservadas para el lenguaje de programación de Python.\n",
    "*Describa la diferencia principal entre las listas y las tuplas en Python.\n",
    "*Describa para que sirve el condicional ELIF.\n"
   ]
  },
  {
   "cell_type": "markdown",
   "metadata": {},
   "source": [
    "1) if,for,type\n",
    "2) las listas se pueden modificar las tuplas no \n",
    "3) sirve para seguir anexando condicionales "
   ]
  },
  {
   "cell_type": "code",
   "execution_count": null,
   "metadata": {},
   "outputs": [],
   "source": []
  }
 ],
 "metadata": {
  "kernelspec": {
   "display_name": "Python 3",
   "language": "python",
   "name": "python3"
  },
  "language_info": {
   "codemirror_mode": {
    "name": "ipython",
    "version": 3
   },
   "file_extension": ".py",
   "mimetype": "text/x-python",
   "name": "python",
   "nbconvert_exporter": "python",
   "pygments_lexer": "ipython3",
   "version": "3.7.4"
  }
 },
 "nbformat": 4,
 "nbformat_minor": 4
}
